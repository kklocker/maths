{
 "cells": [
  {
   "cell_type": "markdown",
   "id": "b817464c-1871-4aa2-b7a5-7fee8a3505cc",
   "metadata": {},
   "source": [
    "# Shanks transform\n",
    "\n",
    "Example from wikipedia: https://en.wikipedia.org/wiki/Shanks_transformation"
   ]
  },
  {
   "cell_type": "code",
   "execution_count": 19,
   "id": "87e3a8de-2eed-47f4-86eb-e8ecef1731a1",
   "metadata": {},
   "outputs": [],
   "source": [
    "from itertools import accumulate"
   ]
  },
  {
   "cell_type": "code",
   "execution_count": 108,
   "id": "6c8b6edb-74f4-4614-9d1b-2bfd0176ede6",
   "metadata": {},
   "outputs": [],
   "source": [
    "def shanks(partial_sums: list[float])-> float :\n",
    "    \"\"\"\n",
    "    Coeffs: coefficients of the sequence\n",
    "    \"\"\"\n",
    "    if len(partial_sums)<=2:\n",
    "        raise Exception(\"Cannot find Shanks transform of this list\")\n",
    "    \n",
    "    sn = []\n",
    "    for i in range(1, len(partial_sums) - 1):\n",
    "        anp = partial_sums[i+1]\n",
    "        anm = partial_sums[i-1]\n",
    "        an = partial_sums[i]\n",
    "\n",
    "        sna = anp - ((anp-an)**2 / ((anp-an) - (an-anm)))\n",
    "        # print(anm, an, anp, \"S(An): \",  sna)\n",
    "        sn.append(sna)\n",
    "    return sn\n",
    "\n",
    "def partial(coeffs, n):\n",
    "    return sum(coeffs[:n])"
   ]
  },
  {
   "cell_type": "code",
   "execution_count": 113,
   "id": "736ce262-8d53-4dc9-859e-864fe19698d9",
   "metadata": {},
   "outputs": [],
   "source": [
    "example_series = lambda N: [4*(-1)**(n)/(2*n+1) for n in range(N+1)]\n",
    "partial_sum = lambda N : list(accumulate(example_series(N)))"
   ]
  },
  {
   "cell_type": "code",
   "execution_count": 116,
   "id": "8d707753-e504-4e16-be72-84c48794adc2",
   "metadata": {},
   "outputs": [],
   "source": [
    "import matplotlib.pyplot as plt"
   ]
  },
  {
   "cell_type": "code",
   "execution_count": 145,
   "id": "a2f8b850-0c31-4306-b630-d65799f72cde",
   "metadata": {},
   "outputs": [
    {
     "data": {
      "text/plain": [
       "[<matplotlib.lines.Line2D at 0x28dfcf25120>]"
      ]
     },
     "execution_count": 145,
     "metadata": {},
     "output_type": "execute_result"
    },
    {
     "data": {
      "image/png": "[encoded data removed]",
      "text/plain": [
       "<Figure size 432x288 with 1 Axes>"
      ]
     },
     "metadata": {
      "needs_background": "light"
     },
     "output_type": "display_data"
    }
   ],
   "source": [
    "n = 10\n",
    "point_list = [i for i in range(0, n+1)]\n",
    "init_list = partial_sum(n)\n",
    "plt.plot(point_list,init_list)\n",
    "plt.plot(point_list[1:-1],shanks(init_list))\n",
    "plt.plot(point_list[2:-2],shanks(shanks(init_list)))"
   ]
  },
  {
   "cell_type": "code",
   "execution_count": 174,
   "id": "d876b7ae-49e8-4c7e-9ded-89da609f0c6a",
   "metadata": {},
   "outputs": [],
   "source": [
    "import math\n",
    "rel_error = lambda l: [f\"{idx}: {abs(k-math.pi)/math.pi * 100:.4f} %\" for idx, k in enumerate(l)]"
   ]
  },
  {
   "cell_type": "code",
   "execution_count": 178,
   "id": "5bbdf4e6-3186-4774-9a82-f16ad8605886",
   "metadata": {},
   "outputs": [
    {
     "name": "stdout",
     "output_type": "stream",
     "text": [
      "['0: 27.3240 %', '1: 15.1174 %', '2: 10.3474 %', '3: 7.8417 %', '4: 6.3054 %', '5: 5.2695 %', '6: 4.5246 %', '7: 3.9636 %', '8: 3.5260 %', '9: 3.1752 %', '10: 2.8878 %']\n",
      "['0: 0.7981 %', '1: 0.2629 %', '2: 0.1160 %', '3: 0.0608 %', '4: 0.0357 %', '5: 0.0226 %', '6: 0.0153 %', '7: 0.0108 %', '8: 0.0079 %']\n",
      "['0: 0.0163 %', '1: 0.0045 %', '2: 0.0016 %', '3: 0.0007 %', '4: 0.0003 %', '5: 0.0002 %', '6: 0.0001 %']\n",
      "['0: 0.0002 %', '1: 0.0001 %', '2: 0.0000 %', '3: 0.0000 %', '4: 0.0000 %']\n"
     ]
    }
   ],
   "source": [
    "print(rel_error(init_list))\n",
    "print(rel_error(shanks(init_list)))\n",
    "print(rel_error(shanks(shanks(init_list))))\n",
    "print(rel_error(shanks(shanks(shanks(init_list)))))"
   ]
  },
  {
   "cell_type": "markdown",
   "id": "e7f95afa-2e19-4522-ac50-ea767f1754b6",
   "metadata": {},
   "source": [
    "---"
   ]
  },
  {
   "cell_type": "code",
   "execution_count": 197,
   "id": "1a87aadb-f1ab-40d8-bd1c-8b64a9652b6e",
   "metadata": {},
   "outputs": [
    {
     "name": "stdout",
     "output_type": "stream",
     "text": [
      "180 ms ± 501 µs per loop (mean ± std. dev. of 7 runs, 10 loops each)\n"
     ]
    }
   ],
   "source": [
    "%timeit k1 = partial_sum(400000)[-1]"
   ]
  },
  {
   "cell_type": "code",
   "execution_count": 192,
   "id": "8970fc04-d235-4ca0-89e7-e5da42ce9298",
   "metadata": {},
   "outputs": [
    {
     "name": "stdout",
     "output_type": "stream",
     "text": [
      "6.65 µs ± 35.2 ns per loop (mean ± std. dev. of 7 runs, 100,000 loops each)\n"
     ]
    }
   ],
   "source": [
    "%timeit k2 = shanks(shanks(partial_sum(5)))"
   ]
  }
 ],
 "metadata": {
  "kernelspec": {
   "display_name": "Python 3 (ipykernel)",
   "language": "python",
   "name": "python3"
  },
  "language_info": {
   "codemirror_mode": {
    "name": "ipython",
    "version": 3
   },
   "file_extension": ".py",
   "mimetype": "text/x-python",
   "name": "python",
   "nbconvert_exporter": "python",
   "pygments_lexer": "ipython3",
   "version": "3.10.0"
  }
 },
 "nbformat": 4,
 "nbformat_minor": 5
}
